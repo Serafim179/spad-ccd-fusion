{
 "cells": [
  {
   "cell_type": "code",
   "execution_count": 1,
   "id": "99e8de35-2131-43e4-b8f3-ebfe3e6bfa92",
   "metadata": {},
   "outputs": [],
   "source": [
    "import torch\n",
    "import numpy as np\n",
    "import matlab.engine"
   ]
  },
  {
   "cell_type": "code",
   "execution_count": 3,
   "id": "716ec7cb-c5ef-47dc-a233-8b2e18d4489d",
   "metadata": {},
   "outputs": [],
   "source": [
    "X = torch.load('X_test')[0]\n",
    "y = torch.load('y_test')[0]\n",
    "\n",
    "hslt = y.sum(0).squeeze() #y[::2]\n",
    "lsht_noised = y + 255*torch.rand_like(y)\n",
    "lsht_blurred = torch.nn.functional.conv2d(y, torch.ones((1,1,5,5)))\n",
    "lsht_downscaled = torch.nn.functional.avg_pool2d(y, (2,2), stride=2).squeeze()"
   ]
  },
  {
   "cell_type": "code",
   "execution_count": 13,
   "id": "bd390799-0296-4d6b-94c8-a4bd0371041e",
   "metadata": {},
   "outputs": [
    {
     "data": {
      "text/plain": [
       "((64, 64, 300), torch.Size([128, 128]))"
      ]
     },
     "execution_count": 13,
     "metadata": {},
     "output_type": "execute_result"
    }
   ],
   "source": [
    "np.array(lsht_downscaled).transpose(1,2,0).shape, hslt.shape"
   ]
  },
  {
   "cell_type": "code",
   "execution_count": null,
   "id": "dc6d1d0a-7414-448e-8699-54487c39f72e",
   "metadata": {},
   "outputs": [],
   "source": [
    "eng = matlab.engine.start_matlab()\n",
    "hres = hslt.shape[0]\n",
    "sigmablur = 1\n",
    "lsht = np.ascontiguousarray(np.array(lsht_downscaled).transpose(1,2,0))\n",
    "rec = eng.reconstruct_hres_lifimage(lsht, np.array(hslt), np.array([1, 1e-4, 1e-2, 0]), np.float64(hres), np.float64(sigmablur), nargout=1)\n",
    "eng.quit()"
   ]
  },
  {
   "cell_type": "code",
   "execution_count": null,
   "id": "f9320de1-2529-46f7-b634-1204f2377327",
   "metadata": {},
   "outputs": [],
   "source": []
  },
  {
   "cell_type": "code",
   "execution_count": null,
   "id": "4489eb5e-1a41-44c2-9e1a-ba82e1962f5d",
   "metadata": {},
   "outputs": [],
   "source": []
  },
  {
   "cell_type": "code",
   "execution_count": null,
   "id": "2b7b22eb-2443-4cd3-8d53-168240fec78a",
   "metadata": {},
   "outputs": [],
   "source": []
  },
  {
   "cell_type": "code",
   "execution_count": null,
   "id": "568a4838-85f4-4e9f-8f4d-bb81dde67490",
   "metadata": {},
   "outputs": [],
   "source": []
  },
  {
   "cell_type": "code",
   "execution_count": null,
   "id": "c38fc796-7ee4-4799-bac1-23006da252bd",
   "metadata": {},
   "outputs": [],
   "source": []
  },
  {
   "cell_type": "code",
   "execution_count": null,
   "id": "ae14ee57-8d18-4fe0-a04c-ad2b88a3e1b0",
   "metadata": {},
   "outputs": [],
   "source": []
  },
  {
   "cell_type": "code",
   "execution_count": null,
   "id": "f1be2301-e7e6-4eb5-bbd8-370e473dbe28",
   "metadata": {},
   "outputs": [],
   "source": []
  }
 ],
 "metadata": {
  "kernelspec": {
   "display_name": "Python 3 (ipykernel)",
   "language": "python",
   "name": "python3"
  },
  "language_info": {
   "codemirror_mode": {
    "name": "ipython",
    "version": 3
   },
   "file_extension": ".py",
   "mimetype": "text/x-python",
   "name": "python",
   "nbconvert_exporter": "python",
   "pygments_lexer": "ipython3",
   "version": "3.11.9"
  }
 },
 "nbformat": 4,
 "nbformat_minor": 5
}
